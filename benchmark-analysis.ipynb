{
  "cells": [
    {
      "cell_type": "code",
      "execution_count": null,
      "id": "40fb37e7-d2a3-496f-aa7d-f704a3273207",
      "metadata": {},
      "outputs": [],
      "source": [
        "# CONFIGURATION\n",
        "queries_file = 'queries/lindas-queries-2023-11.sparql'\n",
        "results_file = 'results/summary-benchmark-2024-08-08T05-04-32.json'"
      ]
    },
    {
      "cell_type": "code",
      "execution_count": null,
      "id": "0f58350e-7aa0-431b-b8f0-72a7819357d9",
      "metadata": {},
      "outputs": [],
      "source": [
        "# Define some internal functions\n",
        "\n",
        "import json\n",
        "\n",
        "def get_queries_from_file(file_path):\n",
        "  # Read the file\n",
        "  with open(file_path, 'r') as file:\n",
        "    content = file.read()\n",
        "\n",
        "  # Split the content on \"###\"\n",
        "  parts = content.split(\"###\")\n",
        "\n",
        "  # Trim each part and remove empty parts\n",
        "  parts = [part.strip() for part in parts if part.strip()]\n",
        "\n",
        "  return parts\n",
        "\n",
        "# Function to load JSON data from a file\n",
        "def load_json(file_path):\n",
        "  with open(file_path, 'r') as file:\n",
        "    data = json.load(file)\n",
        "  return data\n",
        "\n",
        "# Function to get metrics values given a key\n",
        "def get_metrics_values(data, key):\n",
        "  metrics_key = f\"query_{key}_duration\"\n",
        "  if metrics_key in data['metrics']:\n",
        "    values = data['metrics'][metrics_key]['values']\n",
        "    return values\n",
        "  else:\n",
        "    return None\n",
        "\n",
        "# Function to search for passes and fails in groups based on the name\n",
        "def find_passes_fails(data, key):\n",
        "  groups = data['root_group']['groups']\n",
        "  query_name = f\"Query#{key}\"\n",
        "  for group in groups:\n",
        "    if group['name'] == query_name:\n",
        "      for check in group.get('checks', []):\n",
        "        return { \"passes\" : check['passes'], \"fails\" : check['fails'] }\n",
        "  return None"
      ]
    },
    {
      "cell_type": "code",
      "execution_count": null,
      "id": "a9243d92-9a84-479e-b814-1c62ec9e5127",
      "metadata": {},
      "outputs": [],
      "source": [
        "# Variables that contains the data we need\n",
        "queries = get_queries_from_file(queries_file)\n",
        "results = load_json(results_file)"
      ]
    },
    {
      "cell_type": "code",
      "execution_count": null,
      "id": "6dbe4809-8fa7-416f-99fd-194bc5986063",
      "metadata": {
        "editable": true,
        "slideshow": {
          "slide_type": ""
        },
        "tags": []
      },
      "outputs": [],
      "source": [
        "# Iterate over each query\n",
        "\n",
        "import html\n",
        "\n",
        "index = 0\n",
        "data = []\n",
        "for query in queries:\n",
        "  metrics = get_metrics_values(results, index)\n",
        "  groups = find_passes_fails(results, index)\n",
        "  index += 1\n",
        "  avg = None\n",
        "  med = None\n",
        "  min = None\n",
        "  max = None\n",
        "  p90 = None\n",
        "  p95 = None\n",
        "  success = None\n",
        "  failures = None\n",
        "  if metrics:\n",
        "    avg = metrics[\"avg\"]\n",
        "    med = metrics[\"med\"]\n",
        "    min = metrics[\"min\"]\n",
        "    max = metrics[\"max\"]\n",
        "    p90 = metrics[\"p(90)\"]\n",
        "    p95 = metrics[\"p(95)\"]\n",
        "  if groups:\n",
        "    success = groups[\"passes\"]\n",
        "    failures = groups[\"fails\"]\n",
        "\n",
        "  if avg or med or min or max or p90 or p95 or success or failures:\n",
        "    data.append([html.escape(query).replace('\\n', '<br>'), avg, med, min, max, p90, p95, success, failures])"
      ]
    },
    {
      "cell_type": "code",
      "execution_count": null,
      "id": "b723f304-41e0-4787-93ef-c6aa62678653",
      "metadata": {},
      "outputs": [],
      "source": [
        "import pandas as pd\n",
        "from itables import init_notebook_mode, show\n",
        "from IPython.core.display import HTML\n",
        "\n",
        "HTML(\"\"\"\n",
        "<style>\n",
        ".custom-table {\n",
        "  width: auto !important;\n",
        "}\n",
        "</style>\n",
        "\"\"\")\n",
        "\n",
        "init_notebook_mode(all_interactive=True)\n",
        "\n",
        "df = pd.DataFrame(data, columns=[\"Query\", \"Avg (ms)\", \"Med (ms)\", \"Min (ms)\", \"Max (ms)\", \"p(90) (ms)\", \"p(95) (ms)\", \"nb Success\", \"nb Failures\"])\n",
        "df.to_csv('results/results.csv', index=False)\n",
        "show(df, maxBytes=0, columnDefs=[{\"className\": \"dt-left\", \"targets\": 0}], classes = \"custom-table\")"
      ]
    },
    {
      "cell_type": "code",
      "execution_count": null,
      "id": "15ec7f7f",
      "metadata": {},
      "outputs": [],
      "source": [
        "import matplotlib.pyplot as plt\n",
        "\n",
        "# Use the DataFrame index as the query ID\n",
        "df['Query ID'] = df.index\n",
        "\n",
        "# Set 'Query ID' as the index for plotting\n",
        "df.set_index('Query ID', inplace=True)\n",
        "\n",
        "# Group by Query ID and sum the success and failure counts\n",
        "query_results = df[['nb Success', 'nb Failures']]\n",
        "\n",
        "# Plotting\n",
        "ax = query_results.plot(kind='barh', stacked=False, figsize=(10, 250))\n",
        "\n",
        "plt.title('Number of Successes and Failures per Query')\n",
        "plt.xlabel('Count')\n",
        "plt.ylabel('Query ID')\n",
        "plt.xticks(rotation=0)\n",
        "plt.legend(title='Result')\n",
        "plt.gca().invert_yaxis()  # Reverse the order on the y-axis\n",
        "plt.show()"
      ]
    },
    {
      "cell_type": "code",
      "execution_count": null,
      "id": "689a13e1",
      "metadata": {},
      "outputs": [],
      "source": [
        "# Select the columns to plot\n",
        "metrics = df[['Avg (ms)', 'Med (ms)', 'Min (ms)', 'Max (ms)', 'p(90) (ms)', 'p(95) (ms)']]\n",
        "\n",
        "# Plotting\n",
        "ax = metrics.plot(kind='barh', stacked=False, figsize=(10, 350))\n",
        "\n",
        "plt.title('Performance Metrics per Query')\n",
        "plt.ylabel('Query ID')\n",
        "plt.xlabel('Milliseconds (ms)')\n",
        "plt.legend(title='Metric')\n",
        "plt.gca().invert_yaxis()  # Reverse the order on the y-axis\n",
        "plt.show()"
      ]
    }
  ],
  "metadata": {
    "kernelspec": {
      "display_name": "Python 3 (ipykernel)",
      "language": "python",
      "name": "python3"
    },
    "language_info": {
      "codemirror_mode": {
        "name": "ipython",
        "version": 3
      },
      "file_extension": ".py",
      "mimetype": "text/x-python",
      "name": "python",
      "nbconvert_exporter": "python",
      "pygments_lexer": "ipython3",
      "version": "3.10.13"
    }
  },
  "nbformat": 4,
  "nbformat_minor": 5
}
